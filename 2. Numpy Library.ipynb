{
 "cells": [
  {
   "cell_type": "markdown",
   "id": "99374c02",
   "metadata": {},
   "source": [
    "## Introduction to Numpy\n",
    "* Numerical Python\n",
    "* Linear Algebra for Python\n",
    "* Has bindings to C library\n",
    "* High Performance Scientific Computing"
   ]
  },
  {
   "cell_type": "markdown",
   "id": "a3e8e628",
   "metadata": {},
   "source": [
    "Numpy ndarray - A multidimensional Array Object\n",
    "* HOMOGENOUES DATA"
   ]
  },
  {
   "cell_type": "code",
   "execution_count": 1,
   "id": "2417da28",
   "metadata": {},
   "outputs": [],
   "source": [
    "import numpy as np"
   ]
  },
  {
   "cell_type": "code",
   "execution_count": null,
   "id": "79c26b8a",
   "metadata": {},
   "outputs": [],
   "source": [
    "# Numpy gives metrix like architecture"
   ]
  },
  {
   "cell_type": "code",
   "execution_count": 2,
   "id": "bba61114",
   "metadata": {},
   "outputs": [],
   "source": [
    "n = np.array(range(1, 11))"
   ]
  },
  {
   "cell_type": "code",
   "execution_count": 3,
   "id": "f2c19040",
   "metadata": {},
   "outputs": [
    {
     "data": {
      "text/plain": [
       "array([ 1,  2,  3,  4,  5,  6,  7,  8,  9, 10])"
      ]
     },
     "execution_count": 3,
     "metadata": {},
     "output_type": "execute_result"
    }
   ],
   "source": [
    "# 1 Dimensional - 10 Rows & 1 column\n",
    "n"
   ]
  },
  {
   "cell_type": "code",
   "execution_count": 4,
   "id": "7c3bfdee",
   "metadata": {},
   "outputs": [
    {
     "data": {
      "text/plain": [
       "1"
      ]
     },
     "execution_count": 4,
     "metadata": {},
     "output_type": "execute_result"
    }
   ],
   "source": [
    "n.ndim"
   ]
  },
  {
   "cell_type": "code",
   "execution_count": 5,
   "id": "e911492f",
   "metadata": {},
   "outputs": [
    {
     "data": {
      "text/plain": [
       "(10,)"
      ]
     },
     "execution_count": 5,
     "metadata": {},
     "output_type": "execute_result"
    }
   ],
   "source": [
    "n.shape  # 10 rows"
   ]
  },
  {
   "cell_type": "code",
   "execution_count": 6,
   "id": "795758eb",
   "metadata": {},
   "outputs": [],
   "source": [
    "### 2-D data  -- 1 row & 10 Columns\n",
    "\n",
    "n2 = np.array([range(1, 11)])"
   ]
  },
  {
   "cell_type": "code",
   "execution_count": 7,
   "id": "0c4bfe2a",
   "metadata": {},
   "outputs": [
    {
     "data": {
      "text/plain": [
       "array([[ 1,  2,  3,  4,  5,  6,  7,  8,  9, 10]])"
      ]
     },
     "execution_count": 7,
     "metadata": {},
     "output_type": "execute_result"
    }
   ],
   "source": [
    "n2"
   ]
  },
  {
   "cell_type": "code",
   "execution_count": 8,
   "id": "6bcb8e93",
   "metadata": {},
   "outputs": [
    {
     "data": {
      "text/plain": [
       "(1, 10)"
      ]
     },
     "execution_count": 8,
     "metadata": {},
     "output_type": "execute_result"
    }
   ],
   "source": [
    "n2.shape"
   ]
  },
  {
   "cell_type": "code",
   "execution_count": 9,
   "id": "ff98aed2",
   "metadata": {},
   "outputs": [
    {
     "data": {
      "text/plain": [
       "2"
      ]
     },
     "execution_count": 9,
     "metadata": {},
     "output_type": "execute_result"
    }
   ],
   "source": [
    "n2.ndim"
   ]
  },
  {
   "cell_type": "code",
   "execution_count": 10,
   "id": "5dd3f83e",
   "metadata": {},
   "outputs": [
    {
     "data": {
      "text/plain": [
       "dtype('int32')"
      ]
     },
     "execution_count": 10,
     "metadata": {},
     "output_type": "execute_result"
    }
   ],
   "source": [
    "n2.dtype"
   ]
  },
  {
   "cell_type": "code",
   "execution_count": null,
   "id": "3dc8a0bf",
   "metadata": {},
   "outputs": [],
   "source": [
    "# by default data type is int32"
   ]
  },
  {
   "cell_type": "code",
   "execution_count": 11,
   "id": "2ee909d9",
   "metadata": {},
   "outputs": [
    {
     "data": {
      "text/plain": [
       "dtype('int32')"
      ]
     },
     "execution_count": 11,
     "metadata": {},
     "output_type": "execute_result"
    }
   ],
   "source": [
    "n.dtype"
   ]
  },
  {
   "cell_type": "code",
   "execution_count": 12,
   "id": "ce88f3b9",
   "metadata": {},
   "outputs": [],
   "source": [
    "n_type = np.array([1,2,3,4,5,6,7,8,9,10],dtype='float')"
   ]
  },
  {
   "cell_type": "code",
   "execution_count": 13,
   "id": "48b6848c",
   "metadata": {},
   "outputs": [
    {
     "data": {
      "text/plain": [
       "dtype('float64')"
      ]
     },
     "execution_count": 13,
     "metadata": {},
     "output_type": "execute_result"
    }
   ],
   "source": [
    "n_type.dtype"
   ]
  },
  {
   "cell_type": "code",
   "execution_count": null,
   "id": "950204de",
   "metadata": {},
   "outputs": [],
   "source": []
  },
  {
   "cell_type": "markdown",
   "id": "c8dd6251",
   "metadata": {},
   "source": [
    "### object data type array"
   ]
  },
  {
   "cell_type": "code",
   "execution_count": 15,
   "id": "b577bb2a",
   "metadata": {},
   "outputs": [
    {
     "data": {
      "text/plain": [
       "[[1, 2, 3], [4, 5], [7, 8, 9]]"
      ]
     },
     "execution_count": 15,
     "metadata": {},
     "output_type": "execute_result"
    }
   ],
   "source": [
    "# shape of list items are diff\n",
    "lst_odd_size = [[1, 2, 3], [4, 5], [7, 8, 9]]\n",
    "lst_odd_size"
   ]
  },
  {
   "cell_type": "code",
   "execution_count": 16,
   "id": "91e88a93",
   "metadata": {},
   "outputs": [
    {
     "name": "stderr",
     "output_type": "stream",
     "text": [
      "C:\\Users\\virka\\AppData\\Local\\Temp/ipykernel_15336/2156717244.py:1: VisibleDeprecationWarning: Creating an ndarray from ragged nested sequences (which is a list-or-tuple of lists-or-tuples-or ndarrays with different lengths or shapes) is deprecated. If you meant to do this, you must specify 'dtype=object' when creating the ndarray.\n",
      "  md_arr_odd = np.array(lst_odd_size)\n"
     ]
    }
   ],
   "source": [
    "md_arr_odd = np.array(lst_odd_size)"
   ]
  },
  {
   "cell_type": "code",
   "execution_count": 17,
   "id": "0c5ee1d8",
   "metadata": {},
   "outputs": [
    {
     "data": {
      "text/plain": [
       "array([list([1, 2, 3]), list([4, 5]), list([7, 8, 9])], dtype=object)"
      ]
     },
     "execution_count": 17,
     "metadata": {},
     "output_type": "execute_result"
    }
   ],
   "source": [
    "md_arr_odd"
   ]
  },
  {
   "cell_type": "code",
   "execution_count": 18,
   "id": "77f78fc2",
   "metadata": {},
   "outputs": [
    {
     "data": {
      "text/plain": [
       "(3,)"
      ]
     },
     "execution_count": 18,
     "metadata": {},
     "output_type": "execute_result"
    }
   ],
   "source": [
    "md_arr_odd.shape\n",
    "\n",
    "# 3 rows"
   ]
  },
  {
   "cell_type": "code",
   "execution_count": 19,
   "id": "63532c69",
   "metadata": {},
   "outputs": [
    {
     "data": {
      "text/plain": [
       "1"
      ]
     },
     "execution_count": 19,
     "metadata": {},
     "output_type": "execute_result"
    }
   ],
   "source": [
    "md_arr_odd.ndim\n",
    "\n",
    "# 1 Dim - 3 rows"
   ]
  },
  {
   "cell_type": "code",
   "execution_count": 20,
   "id": "cddc2f0a",
   "metadata": {},
   "outputs": [
    {
     "data": {
      "text/plain": [
       "dtype('O')"
      ]
     },
     "execution_count": 20,
     "metadata": {},
     "output_type": "execute_result"
    }
   ],
   "source": [
    "md_arr_odd.dtype"
   ]
  },
  {
   "cell_type": "code",
   "execution_count": null,
   "id": "844c0864",
   "metadata": {},
   "outputs": [],
   "source": []
  },
  {
   "cell_type": "markdown",
   "id": "6323cbdd",
   "metadata": {},
   "source": [
    "### Reshape - converting to diff dimension\n",
    "    \n",
    "    * assigning New Shape ex original shape (6,) -- rows x colums =6 --> (2,3),(3,2),(1,6) \n",
    "    * when you dont know the column size --- mention -1\n",
    "    \n",
    "    * reshape(pairs,rows,columns)\n",
    "    * original (rows x column ) = reshaped (rows x column )"
   ]
  },
  {
   "cell_type": "code",
   "execution_count": 23,
   "id": "32b41253",
   "metadata": {},
   "outputs": [
    {
     "data": {
      "text/plain": [
       "array([1, 2, 3, 4, 5, 6])"
      ]
     },
     "execution_count": 23,
     "metadata": {},
     "output_type": "execute_result"
    }
   ],
   "source": [
    "l=[1, 2, 3, 4, 5, 6]\n",
    "\n",
    "arr=np.array(l)\n",
    "arr"
   ]
  },
  {
   "cell_type": "code",
   "execution_count": 24,
   "id": "2a8ee161",
   "metadata": {},
   "outputs": [
    {
     "data": {
      "text/plain": [
       "(6,)"
      ]
     },
     "execution_count": 24,
     "metadata": {},
     "output_type": "execute_result"
    }
   ],
   "source": [
    "arr.shape"
   ]
  },
  {
   "cell_type": "code",
   "execution_count": 25,
   "id": "4a4cd0a0",
   "metadata": {},
   "outputs": [
    {
     "data": {
      "text/plain": [
       "array([[1, 2],\n",
       "       [3, 4],\n",
       "       [5, 6]])"
      ]
     },
     "execution_count": 25,
     "metadata": {},
     "output_type": "execute_result"
    }
   ],
   "source": [
    "# assigning New Shape  (6,) -- rows x colums =6 --> (2,3),(3,2),(1,6)   == INPLACE\n",
    "arr.shape=(3,2)\n",
    "arr"
   ]
  },
  {
   "cell_type": "code",
   "execution_count": 26,
   "id": "6ccf1c33",
   "metadata": {},
   "outputs": [
    {
     "data": {
      "text/plain": [
       "array([ 7,  8,  9, 10, 11, 12])"
      ]
     },
     "execution_count": 26,
     "metadata": {},
     "output_type": "execute_result"
    }
   ],
   "source": [
    "l=[7,8,9,10,11,12]\n",
    "\n",
    "arr2=np.array(l)\n",
    "arr2"
   ]
  },
  {
   "cell_type": "code",
   "execution_count": 27,
   "id": "0d253571",
   "metadata": {},
   "outputs": [
    {
     "data": {
      "text/plain": [
       "array([[ 7,  8,  9],\n",
       "       [10, 11, 12]])"
      ]
     },
     "execution_count": 27,
     "metadata": {},
     "output_type": "execute_result"
    }
   ],
   "source": [
    "# reshape Method                 == Assign new variable\n",
    "arr_new=arr2.reshape(2,3)\n",
    "arr_new"
   ]
  },
  {
   "cell_type": "code",
   "execution_count": 28,
   "id": "cf4fd615",
   "metadata": {},
   "outputs": [
    {
     "data": {
      "text/plain": [
       "array([[ 7,  8],\n",
       "       [ 9, 10],\n",
       "       [11, 12]])"
      ]
     },
     "execution_count": 28,
     "metadata": {},
     "output_type": "execute_result"
    }
   ],
   "source": [
    "### when you dont know the column size --- mention -1\n",
    "\n",
    "arr_n=arr2.reshape(3,-1)\n",
    "arr_n"
   ]
  },
  {
   "cell_type": "code",
   "execution_count": 29,
   "id": "718fa3e1",
   "metadata": {},
   "outputs": [
    {
     "ename": "ValueError",
     "evalue": "cannot reshape array of size 6 into shape (4,newaxis)",
     "output_type": "error",
     "traceback": [
      "\u001b[1;31m---------------------------------------------------------------------------\u001b[0m",
      "\u001b[1;31mValueError\u001b[0m                                Traceback (most recent call last)",
      "\u001b[1;32m~\\AppData\\Local\\Temp/ipykernel_15336/2993221380.py\u001b[0m in \u001b[0;36m<module>\u001b[1;34m\u001b[0m\n\u001b[1;32m----> 1\u001b[1;33m \u001b[0mreshaped_arr\u001b[0m \u001b[1;33m=\u001b[0m \u001b[0marr2\u001b[0m\u001b[1;33m.\u001b[0m\u001b[0mreshape\u001b[0m\u001b[1;33m(\u001b[0m\u001b[1;36m4\u001b[0m\u001b[1;33m,\u001b[0m\u001b[1;33m-\u001b[0m\u001b[1;36m1\u001b[0m\u001b[1;33m)\u001b[0m\u001b[1;33m\u001b[0m\u001b[1;33m\u001b[0m\u001b[0m\n\u001b[0m\u001b[0;32m      2\u001b[0m \u001b[0mreshaped_arr\u001b[0m\u001b[1;33m\u001b[0m\u001b[1;33m\u001b[0m\u001b[0m\n",
      "\u001b[1;31mValueError\u001b[0m: cannot reshape array of size 6 into shape (4,newaxis)"
     ]
    }
   ],
   "source": [
    "reshaped_arr = arr2.reshape(4,-1)\n",
    "reshaped_arr"
   ]
  },
  {
   "cell_type": "code",
   "execution_count": null,
   "id": "d0311ed9",
   "metadata": {},
   "outputs": [],
   "source": [
    "# original (rows x column ) = reshaped (rows x column )"
   ]
  },
  {
   "cell_type": "markdown",
   "id": "86366abd",
   "metadata": {},
   "source": [
    "### Arange function"
   ]
  },
  {
   "cell_type": "code",
   "execution_count": 32,
   "id": "aceaf451",
   "metadata": {},
   "outputs": [
    {
     "data": {
      "text/plain": [
       "array([ 0,  1,  2,  3,  4,  5,  6,  7,  8,  9, 10, 11, 12, 13, 14, 15, 16,\n",
       "       17, 18, 19, 20, 21, 22, 23])"
      ]
     },
     "execution_count": 32,
     "metadata": {},
     "output_type": "execute_result"
    }
   ],
   "source": [
    "a=np.arange(24)\n",
    "a"
   ]
  },
  {
   "cell_type": "code",
   "execution_count": 33,
   "id": "c451e8f7",
   "metadata": {},
   "outputs": [
    {
     "data": {
      "text/plain": [
       "array([[ 0,  1,  2,  3],\n",
       "       [ 4,  5,  6,  7],\n",
       "       [ 8,  9, 10, 11],\n",
       "       [12, 13, 14, 15],\n",
       "       [16, 17, 18, 19],\n",
       "       [20, 21, 22, 23]])"
      ]
     },
     "execution_count": 33,
     "metadata": {},
     "output_type": "execute_result"
    }
   ],
   "source": [
    "a.shape=(6,4)\n",
    "a"
   ]
  },
  {
   "cell_type": "code",
   "execution_count": 34,
   "id": "d93ac311",
   "metadata": {},
   "outputs": [
    {
     "data": {
      "text/plain": [
       "array([[[ 0,  1],\n",
       "        [ 2,  3],\n",
       "        [ 4,  5]],\n",
       "\n",
       "       [[ 6,  7],\n",
       "        [ 8,  9],\n",
       "        [10, 11]],\n",
       "\n",
       "       [[12, 13],\n",
       "        [14, 15],\n",
       "        [16, 17]],\n",
       "\n",
       "       [[18, 19],\n",
       "        [20, 21],\n",
       "        [22, 23]]])"
      ]
     },
     "execution_count": 34,
     "metadata": {},
     "output_type": "execute_result"
    }
   ],
   "source": [
    "# 6pairs of 4 rows & 1col\n",
    "#reshape(pairs,rows,columns)\n",
    "\n",
    "a.reshape(4,3,2)"
   ]
  },
  {
   "cell_type": "code",
   "execution_count": 35,
   "id": "4fe47ddb",
   "metadata": {},
   "outputs": [
    {
     "data": {
      "text/plain": [
       "array([[[ 0,  1,  2,  3],\n",
       "        [ 4,  5,  6,  7]],\n",
       "\n",
       "       [[ 8,  9, 10, 11],\n",
       "        [12, 13, 14, 15]],\n",
       "\n",
       "       [[16, 17, 18, 19],\n",
       "        [20, 21, 22, 23]]])"
      ]
     },
     "execution_count": 35,
     "metadata": {},
     "output_type": "execute_result"
    }
   ],
   "source": [
    "c = a.reshape(3, 2, 4)\n",
    "c"
   ]
  },
  {
   "cell_type": "code",
   "execution_count": null,
   "id": "5a956ecb",
   "metadata": {},
   "outputs": [],
   "source": []
  },
  {
   "cell_type": "markdown",
   "id": "46fd19b5",
   "metadata": {},
   "source": [
    "### item size for each element"
   ]
  },
  {
   "cell_type": "code",
   "execution_count": 36,
   "id": "c0242c02",
   "metadata": {},
   "outputs": [
    {
     "data": {
      "text/plain": [
       "1"
      ]
     },
     "execution_count": 36,
     "metadata": {},
     "output_type": "execute_result"
    }
   ],
   "source": [
    "x = np.arange(6, dtype=np.int8)\n",
    "x.itemsize"
   ]
  },
  {
   "cell_type": "code",
   "execution_count": 37,
   "id": "13cb0753",
   "metadata": {},
   "outputs": [
    {
     "data": {
      "text/plain": [
       "8"
      ]
     },
     "execution_count": 37,
     "metadata": {},
     "output_type": "execute_result"
    }
   ],
   "source": [
    "y = np.arange(6, dtype=np.int64)\n",
    "y.itemsize"
   ]
  },
  {
   "cell_type": "code",
   "execution_count": 38,
   "id": "6fd8f883",
   "metadata": {},
   "outputs": [
    {
     "data": {
      "text/plain": [
       "4"
      ]
     },
     "execution_count": 38,
     "metadata": {},
     "output_type": "execute_result"
    }
   ],
   "source": [
    "z = np.arange(6, dtype=np.int32)\n",
    "z.itemsize"
   ]
  },
  {
   "cell_type": "code",
   "execution_count": 39,
   "id": "0dbf8319",
   "metadata": {},
   "outputs": [
    {
     "data": {
      "text/plain": [
       "8"
      ]
     },
     "execution_count": 39,
     "metadata": {},
     "output_type": "execute_result"
    }
   ],
   "source": [
    "o = np.arange(6, dtype=object)\n",
    "o.itemsize"
   ]
  },
  {
   "cell_type": "code",
   "execution_count": 40,
   "id": "69d53bb3",
   "metadata": {},
   "outputs": [
    {
     "data": {
      "text/plain": [
       "8"
      ]
     },
     "execution_count": 40,
     "metadata": {},
     "output_type": "execute_result"
    }
   ],
   "source": [
    "f = np.arange(6, dtype=float)\n",
    "f.itemsize"
   ]
  },
  {
   "cell_type": "code",
   "execution_count": 41,
   "id": "1911d3b4",
   "metadata": {},
   "outputs": [
    {
     "ename": "ValueError",
     "evalue": "no fill-function for data-type.",
     "output_type": "error",
     "traceback": [
      "\u001b[1;31m---------------------------------------------------------------------------\u001b[0m",
      "\u001b[1;31mValueError\u001b[0m                                Traceback (most recent call last)",
      "\u001b[1;32m~\\AppData\\Local\\Temp/ipykernel_15336/3281466094.py\u001b[0m in \u001b[0;36m<module>\u001b[1;34m\u001b[0m\n\u001b[1;32m----> 1\u001b[1;33m \u001b[0ms\u001b[0m\u001b[1;33m=\u001b[0m\u001b[0mnp\u001b[0m\u001b[1;33m.\u001b[0m\u001b[0marange\u001b[0m\u001b[1;33m(\u001b[0m\u001b[1;36m6\u001b[0m\u001b[1;33m,\u001b[0m\u001b[0mdtype\u001b[0m\u001b[1;33m=\u001b[0m\u001b[1;34m'S'\u001b[0m\u001b[1;33m)\u001b[0m\u001b[1;33m\u001b[0m\u001b[1;33m\u001b[0m\u001b[0m\n\u001b[0m\u001b[0;32m      2\u001b[0m \u001b[0ms\u001b[0m\u001b[1;33m.\u001b[0m\u001b[0mitemsize\u001b[0m\u001b[1;33m\u001b[0m\u001b[1;33m\u001b[0m\u001b[0m\n",
      "\u001b[1;31mValueError\u001b[0m: no fill-function for data-type."
     ]
    }
   ],
   "source": [
    "s = np.arange(6, dtype='S')\n",
    "s.itemsize"
   ]
  },
  {
   "cell_type": "markdown",
   "id": "dc554008",
   "metadata": {},
   "source": [
    "###  Broadcasting\n",
    "\n",
    "* Array slices are *actually* views on the original array\n",
    "* That means, data isn't copied, and any modifications to the view would be reflected back to the source array"
   ]
  },
  {
   "cell_type": "code",
   "execution_count": 42,
   "id": "cd932cbd",
   "metadata": {},
   "outputs": [
    {
     "data": {
      "text/plain": [
       "array([20, 21, 26, 13, 27, 21, 16, 24, 10, 16])"
      ]
     },
     "execution_count": 42,
     "metadata": {},
     "output_type": "execute_result"
    }
   ],
   "source": [
    "a=np.random.randint(10,30,10)\n",
    "a"
   ]
  },
  {
   "cell_type": "code",
   "execution_count": 43,
   "id": "0b28f146",
   "metadata": {},
   "outputs": [
    {
     "data": {
      "text/plain": [
       "array([20, 21, 26, 13, 27])"
      ]
     },
     "execution_count": 43,
     "metadata": {},
     "output_type": "execute_result"
    }
   ],
   "source": [
    "# taken a slice\n",
    "a[:5]"
   ]
  },
  {
   "cell_type": "code",
   "execution_count": 45,
   "id": "3c54b9bf",
   "metadata": {},
   "outputs": [],
   "source": [
    "# reassigning possible in NP not in list\n",
    "a[:5]=168"
   ]
  },
  {
   "cell_type": "code",
   "execution_count": 46,
   "id": "c28374ed",
   "metadata": {},
   "outputs": [
    {
     "data": {
      "text/plain": [
       "array([168, 168, 168, 168, 168,  21,  16,  24,  10,  16])"
      ]
     },
     "execution_count": 46,
     "metadata": {},
     "output_type": "execute_result"
    }
   ],
   "source": [
    "# reassigned array - this change is reflected in original array - \n",
    "a"
   ]
  },
  {
   "cell_type": "code",
   "execution_count": 47,
   "id": "db44ed49",
   "metadata": {},
   "outputs": [
    {
     "data": {
      "text/plain": [
       "dtype('int32')"
      ]
     },
     "execution_count": 47,
     "metadata": {},
     "output_type": "execute_result"
    }
   ],
   "source": [
    "a.dtype"
   ]
  },
  {
   "cell_type": "code",
   "execution_count": 48,
   "id": "9c3da3d9",
   "metadata": {},
   "outputs": [
    {
     "data": {
      "text/plain": [
       "10"
      ]
     },
     "execution_count": 48,
     "metadata": {},
     "output_type": "execute_result"
    }
   ],
   "source": [
    "len(a)"
   ]
  },
  {
   "cell_type": "code",
   "execution_count": 49,
   "id": "d26c3550",
   "metadata": {},
   "outputs": [
    {
     "data": {
      "text/plain": [
       "16"
      ]
     },
     "execution_count": 49,
     "metadata": {},
     "output_type": "execute_result"
    }
   ],
   "source": [
    "a[-1]"
   ]
  },
  {
   "cell_type": "code",
   "execution_count": null,
   "id": "d77d64fd",
   "metadata": {},
   "outputs": [],
   "source": [
    "# taking slice - assign to diff variable\n",
    "# will it reflect in original array  -YES!!"
   ]
  },
  {
   "cell_type": "code",
   "execution_count": 50,
   "id": "f21bcfa7",
   "metadata": {},
   "outputs": [],
   "source": [
    "new_a=a[:5]"
   ]
  },
  {
   "cell_type": "code",
   "execution_count": 51,
   "id": "0a2d7e01",
   "metadata": {},
   "outputs": [
    {
     "data": {
      "text/plain": [
       "array([168, 168, 168, 168, 168])"
      ]
     },
     "execution_count": 51,
     "metadata": {},
     "output_type": "execute_result"
    }
   ],
   "source": [
    "new_a"
   ]
  },
  {
   "cell_type": "code",
   "execution_count": 52,
   "id": "92b98a73",
   "metadata": {},
   "outputs": [],
   "source": [
    "new_a[-3:]=77"
   ]
  },
  {
   "cell_type": "code",
   "execution_count": 53,
   "id": "eb0a055b",
   "metadata": {},
   "outputs": [
    {
     "data": {
      "text/plain": [
       "array([168, 168,  77,  77,  77])"
      ]
     },
     "execution_count": 53,
     "metadata": {},
     "output_type": "execute_result"
    }
   ],
   "source": [
    "new_a"
   ]
  },
  {
   "cell_type": "code",
   "execution_count": 54,
   "id": "adac3ad2",
   "metadata": {},
   "outputs": [
    {
     "data": {
      "text/plain": [
       "array([168, 168,  77,  77,  77,  21,  16,  24,  10,  16])"
      ]
     },
     "execution_count": 54,
     "metadata": {},
     "output_type": "execute_result"
    }
   ],
   "source": [
    "a"
   ]
  },
  {
   "cell_type": "code",
   "execution_count": null,
   "id": "c71e0886",
   "metadata": {},
   "outputs": [],
   "source": [
    "# This is not possible in list\n",
    "# in list change in slice is only limited to slice not to original list"
   ]
  },
  {
   "cell_type": "code",
   "execution_count": null,
   "id": "133b6fec",
   "metadata": {},
   "outputs": [],
   "source": []
  },
  {
   "cell_type": "markdown",
   "id": "3e401ba8",
   "metadata": {},
   "source": [
    "### Matrix"
   ]
  },
  {
   "cell_type": "code",
   "execution_count": 55,
   "id": "00339ee2",
   "metadata": {},
   "outputs": [
    {
     "data": {
      "text/plain": [
       "array([[1, 2, 3],\n",
       "       [5, 6, 7],\n",
       "       [8, 9, 4]])"
      ]
     },
     "execution_count": 55,
     "metadata": {},
     "output_type": "execute_result"
    }
   ],
   "source": [
    "#list to matrix\n",
    "l=[[1,2,3],[5,6,7],[8,9,4]]\n",
    "a=np.array(l)\n",
    "a"
   ]
  },
  {
   "cell_type": "code",
   "execution_count": 56,
   "id": "c8a60cd7",
   "metadata": {},
   "outputs": [
    {
     "data": {
      "text/plain": [
       "array([[1, 5, 8],\n",
       "       [2, 6, 9],\n",
       "       [3, 7, 4]])"
      ]
     },
     "execution_count": 56,
     "metadata": {},
     "output_type": "execute_result"
    }
   ],
   "source": [
    "# Transpose\n",
    "a.T"
   ]
  },
  {
   "cell_type": "code",
   "execution_count": 57,
   "id": "d657c214",
   "metadata": {},
   "outputs": [],
   "source": [
    "#defining two matrix\n",
    "c=np.array([[1,2],[3,4]],dtype=float)\n",
    "d=np.array([[5,6],[7,8]],dtype=float)\n"
   ]
  },
  {
   "cell_type": "code",
   "execution_count": 58,
   "id": "9233a709",
   "metadata": {},
   "outputs": [
    {
     "data": {
      "text/plain": [
       "array([[1., 2.],\n",
       "       [3., 4.]])"
      ]
     },
     "execution_count": 58,
     "metadata": {},
     "output_type": "execute_result"
    }
   ],
   "source": [
    "c"
   ]
  },
  {
   "cell_type": "code",
   "execution_count": null,
   "id": "f10a5d80",
   "metadata": {},
   "outputs": [],
   "source": [
    "# 1 D - (r,)\n",
    "# 2 D - ( r,c)\n",
    "# 3 D - (pair,r,c)"
   ]
  },
  {
   "cell_type": "markdown",
   "id": "52a6337f",
   "metadata": {},
   "source": [
    "#### Matrix Multiplication by -  DOT & MATMUL\n",
    "\n",
    "* kindly note shape of matrix is crucial for multiplication\n",
    "* no of columns of 1st = no of rows of 2nd"
   ]
  },
  {
   "cell_type": "code",
   "execution_count": 59,
   "id": "f472349a",
   "metadata": {},
   "outputs": [
    {
     "data": {
      "text/plain": [
       "array([[19., 22.],\n",
       "       [43., 50.]])"
      ]
     },
     "execution_count": 59,
     "metadata": {},
     "output_type": "execute_result"
    }
   ],
   "source": [
    "dotproduct=np.matmul(c,d)\n",
    "dotproduct"
   ]
  },
  {
   "cell_type": "code",
   "execution_count": 60,
   "id": "a0aac6a0",
   "metadata": {},
   "outputs": [
    {
     "data": {
      "text/plain": [
       "array([[19., 22.],\n",
       "       [43., 50.]])"
      ]
     },
     "execution_count": 60,
     "metadata": {},
     "output_type": "execute_result"
    }
   ],
   "source": [
    "dotproduct1=np.dot(c,d)\n",
    "dotproduct1"
   ]
  },
  {
   "cell_type": "code",
   "execution_count": 64,
   "id": "ee00e823",
   "metadata": {},
   "outputs": [
    {
     "data": {
      "text/plain": [
       "(3, 3)"
      ]
     },
     "execution_count": 64,
     "metadata": {},
     "output_type": "execute_result"
    }
   ],
   "source": [
    "# shape of array\n",
    "\n",
    "a.shape"
   ]
  },
  {
   "cell_type": "markdown",
   "id": "423ba914",
   "metadata": {
    "heading_collapsed": true
   },
   "source": [
    "#### Arthmetic Operations on Matrix\n",
    "\n",
    "* element to elememt addition,multiplication,sub,div"
   ]
  },
  {
   "cell_type": "code",
   "execution_count": 61,
   "id": "d32acfa2",
   "metadata": {
    "hidden": true
   },
   "outputs": [
    {
     "data": {
      "text/plain": [
       "array([[ 6.,  8.],\n",
       "       [10., 12.]])"
      ]
     },
     "execution_count": 61,
     "metadata": {},
     "output_type": "execute_result"
    }
   ],
   "source": [
    "c+d"
   ]
  },
  {
   "cell_type": "code",
   "execution_count": 62,
   "id": "2088529a",
   "metadata": {
    "hidden": true
   },
   "outputs": [
    {
     "data": {
      "text/plain": [
       "array([[-4., -4.],\n",
       "       [-4., -4.]])"
      ]
     },
     "execution_count": 62,
     "metadata": {},
     "output_type": "execute_result"
    }
   ],
   "source": [
    "c-d"
   ]
  },
  {
   "cell_type": "code",
   "execution_count": 63,
   "id": "0270b49c",
   "metadata": {
    "hidden": true
   },
   "outputs": [
    {
     "data": {
      "text/plain": [
       "array([[0.2       , 0.33333333],\n",
       "       [0.42857143, 0.5       ]])"
      ]
     },
     "execution_count": 63,
     "metadata": {},
     "output_type": "execute_result"
    }
   ],
   "source": [
    "c/d"
   ]
  },
  {
   "cell_type": "code",
   "execution_count": 64,
   "id": "06e3c039",
   "metadata": {
    "hidden": true
   },
   "outputs": [
    {
     "data": {
      "text/plain": [
       "array([[ 5., 12.],\n",
       "       [21., 32.]])"
      ]
     },
     "execution_count": 64,
     "metadata": {},
     "output_type": "execute_result"
    }
   ],
   "source": [
    "c*d"
   ]
  },
  {
   "cell_type": "markdown",
   "id": "5817e593",
   "metadata": {
    "hidden": true
   },
   "source": [
    "by Method"
   ]
  },
  {
   "cell_type": "code",
   "execution_count": 65,
   "id": "8f582b20",
   "metadata": {
    "hidden": true
   },
   "outputs": [
    {
     "data": {
      "text/plain": [
       "array([[ 6.,  8.],\n",
       "       [10., 12.]])"
      ]
     },
     "execution_count": 65,
     "metadata": {},
     "output_type": "execute_result"
    }
   ],
   "source": [
    "np.add(c,d)"
   ]
  },
  {
   "cell_type": "code",
   "execution_count": 66,
   "id": "feaa3352",
   "metadata": {
    "hidden": true
   },
   "outputs": [
    {
     "data": {
      "text/plain": [
       "array([[-4., -4.],\n",
       "       [-4., -4.]])"
      ]
     },
     "execution_count": 66,
     "metadata": {},
     "output_type": "execute_result"
    }
   ],
   "source": [
    "np.subtract(c,d)"
   ]
  },
  {
   "cell_type": "code",
   "execution_count": 67,
   "id": "e421da28",
   "metadata": {
    "hidden": true
   },
   "outputs": [
    {
     "data": {
      "text/plain": [
       "array([[ 5., 12.],\n",
       "       [21., 32.]])"
      ]
     },
     "execution_count": 67,
     "metadata": {},
     "output_type": "execute_result"
    }
   ],
   "source": [
    "np.multiply(c,d)"
   ]
  },
  {
   "cell_type": "code",
   "execution_count": 68,
   "id": "13d0a30c",
   "metadata": {
    "hidden": true
   },
   "outputs": [
    {
     "data": {
      "text/plain": [
       "array([[0.2       , 0.33333333],\n",
       "       [0.42857143, 0.5       ]])"
      ]
     },
     "execution_count": 68,
     "metadata": {},
     "output_type": "execute_result"
    }
   ],
   "source": [
    "np.divide(c,d)"
   ]
  },
  {
   "cell_type": "code",
   "execution_count": null,
   "id": "66665004",
   "metadata": {
    "hidden": true
   },
   "outputs": [],
   "source": []
  },
  {
   "cell_type": "markdown",
   "id": "ff7a1116",
   "metadata": {
    "heading_collapsed": true
   },
   "source": [
    "#### Inverse of Matrix"
   ]
  },
  {
   "cell_type": "code",
   "execution_count": 69,
   "id": "51ecb2b7",
   "metadata": {
    "hidden": true
   },
   "outputs": [
    {
     "data": {
      "text/plain": [
       "array([[-1.625     ,  0.79166667, -0.16666667],\n",
       "       [ 1.5       , -0.83333333,  0.33333333],\n",
       "       [-0.125     ,  0.29166667, -0.16666667]])"
      ]
     },
     "execution_count": 69,
     "metadata": {},
     "output_type": "execute_result"
    }
   ],
   "source": [
    "a_inv=np.linalg.inv(a)\n",
    "a_inv"
   ]
  },
  {
   "cell_type": "code",
   "execution_count": null,
   "id": "76cd7e51",
   "metadata": {
    "hidden": true
   },
   "outputs": [],
   "source": [
    "# AB=I=BA - ( I - Identity matrix ) then A & B are inverse"
   ]
  },
  {
   "cell_type": "code",
   "execution_count": 70,
   "id": "86b218ce",
   "metadata": {
    "hidden": true
   },
   "outputs": [
    {
     "data": {
      "text/plain": [
       "array([[ 1.00000000e+00,  1.11022302e-16,  2.77555756e-17],\n",
       "       [ 9.71445147e-17,  1.00000000e+00, -8.32667268e-17],\n",
       "       [ 5.55111512e-17,  4.44089210e-16,  1.00000000e+00]])"
      ]
     },
     "execution_count": 70,
     "metadata": {},
     "output_type": "execute_result"
    }
   ],
   "source": [
    "np.matmul(a,a_inv)"
   ]
  },
  {
   "cell_type": "code",
   "execution_count": null,
   "id": "93628ff9",
   "metadata": {
    "hidden": true
   },
   "outputs": [],
   "source": []
  },
  {
   "cell_type": "markdown",
   "id": "c042f5dd",
   "metadata": {
    "heading_collapsed": true
   },
   "source": [
    "####  Trigonometry "
   ]
  },
  {
   "cell_type": "code",
   "execution_count": 71,
   "id": "8c075691",
   "metadata": {
    "hidden": true
   },
   "outputs": [
    {
     "data": {
      "text/plain": [
       "0.0015926529164868282"
      ]
     },
     "execution_count": 71,
     "metadata": {},
     "output_type": "execute_result"
    }
   ],
   "source": [
    "# thita - angle must be in pie=3.14\n",
    "np.sin(3.14)"
   ]
  },
  {
   "cell_type": "code",
   "execution_count": 72,
   "id": "552983d8",
   "metadata": {
    "hidden": true
   },
   "outputs": [
    {
     "data": {
      "text/plain": [
       "0.0"
      ]
     },
     "execution_count": 72,
     "metadata": {},
     "output_type": "execute_result"
    }
   ],
   "source": [
    "np.tan(0)"
   ]
  },
  {
   "cell_type": "code",
   "execution_count": 73,
   "id": "dbbd4a8d",
   "metadata": {
    "hidden": true
   },
   "outputs": [
    {
     "data": {
      "text/plain": [
       "1.0"
      ]
     },
     "execution_count": 73,
     "metadata": {},
     "output_type": "execute_result"
    }
   ],
   "source": [
    "np.cos(0)"
   ]
  },
  {
   "cell_type": "code",
   "execution_count": 74,
   "id": "4b86fe64",
   "metadata": {
    "hidden": true
   },
   "outputs": [
    {
     "data": {
      "text/plain": [
       "2.718281828459045"
      ]
     },
     "execution_count": 74,
     "metadata": {},
     "output_type": "execute_result"
    }
   ],
   "source": [
    "np.exp(1)"
   ]
  },
  {
   "cell_type": "code",
   "execution_count": 75,
   "id": "0a74e000",
   "metadata": {
    "hidden": true
   },
   "outputs": [
    {
     "data": {
      "text/plain": [
       "1.0"
      ]
     },
     "execution_count": 75,
     "metadata": {},
     "output_type": "execute_result"
    }
   ],
   "source": [
    "np.log10(10)"
   ]
  },
  {
   "cell_type": "code",
   "execution_count": 76,
   "id": "0819f2f6",
   "metadata": {
    "hidden": true
   },
   "outputs": [
    {
     "data": {
      "text/plain": [
       "2.302585092994046"
      ]
     },
     "execution_count": 76,
     "metadata": {},
     "output_type": "execute_result"
    }
   ],
   "source": [
    "np.log(10)"
   ]
  },
  {
   "cell_type": "code",
   "execution_count": null,
   "id": "f0da2efa",
   "metadata": {
    "hidden": true
   },
   "outputs": [],
   "source": []
  },
  {
   "cell_type": "markdown",
   "id": "8c4ddf68",
   "metadata": {
    "heading_collapsed": true
   },
   "source": [
    "### Basic Stats - Min Max Mean Median Var Std Quantile "
   ]
  },
  {
   "cell_type": "code",
   "execution_count": 77,
   "id": "7b54b9da",
   "metadata": {
    "hidden": true
   },
   "outputs": [
    {
     "data": {
      "text/plain": [
       "1"
      ]
     },
     "execution_count": 77,
     "metadata": {},
     "output_type": "execute_result"
    }
   ],
   "source": [
    "a.min()"
   ]
  },
  {
   "cell_type": "code",
   "execution_count": 81,
   "id": "114dbcff",
   "metadata": {
    "hidden": true
   },
   "outputs": [
    {
     "data": {
      "text/plain": [
       "1"
      ]
     },
     "execution_count": 81,
     "metadata": {},
     "output_type": "execute_result"
    }
   ],
   "source": [
    "np.min(a)"
   ]
  },
  {
   "cell_type": "code",
   "execution_count": 78,
   "id": "9198429d",
   "metadata": {
    "hidden": true
   },
   "outputs": [
    {
     "data": {
      "text/plain": [
       "9"
      ]
     },
     "execution_count": 78,
     "metadata": {},
     "output_type": "execute_result"
    }
   ],
   "source": [
    "a.max()"
   ]
  },
  {
   "cell_type": "code",
   "execution_count": 82,
   "id": "cec85080",
   "metadata": {
    "hidden": true
   },
   "outputs": [
    {
     "data": {
      "text/plain": [
       "9"
      ]
     },
     "execution_count": 82,
     "metadata": {},
     "output_type": "execute_result"
    }
   ],
   "source": [
    "np.max(a)"
   ]
  },
  {
   "cell_type": "code",
   "execution_count": 79,
   "id": "ee297ecc",
   "metadata": {
    "hidden": true
   },
   "outputs": [
    {
     "data": {
      "text/plain": [
       "5.0"
      ]
     },
     "execution_count": 79,
     "metadata": {},
     "output_type": "execute_result"
    }
   ],
   "source": [
    "a.mean()"
   ]
  },
  {
   "cell_type": "code",
   "execution_count": 83,
   "id": "87666b04",
   "metadata": {
    "hidden": true
   },
   "outputs": [
    {
     "data": {
      "text/plain": [
       "5.0"
      ]
     },
     "execution_count": 83,
     "metadata": {},
     "output_type": "execute_result"
    }
   ],
   "source": [
    "np.mean(a)"
   ]
  },
  {
   "cell_type": "code",
   "execution_count": 80,
   "id": "09e7b642",
   "metadata": {
    "hidden": true
   },
   "outputs": [
    {
     "data": {
      "text/plain": [
       "5.0"
      ]
     },
     "execution_count": 80,
     "metadata": {},
     "output_type": "execute_result"
    }
   ],
   "source": [
    "# only this way not by ---> a.median()\n",
    "np.median(a)"
   ]
  },
  {
   "cell_type": "code",
   "execution_count": 84,
   "id": "3d5314ac",
   "metadata": {
    "hidden": true
   },
   "outputs": [
    {
     "data": {
      "text/plain": [
       "6.666666666666667"
      ]
     },
     "execution_count": 84,
     "metadata": {},
     "output_type": "execute_result"
    }
   ],
   "source": [
    "np.var(a)"
   ]
  },
  {
   "cell_type": "code",
   "execution_count": 85,
   "id": "524d0f6e",
   "metadata": {
    "hidden": true
   },
   "outputs": [
    {
     "data": {
      "text/plain": [
       "6.666666666666667"
      ]
     },
     "execution_count": 85,
     "metadata": {},
     "output_type": "execute_result"
    }
   ],
   "source": [
    "a.var()"
   ]
  },
  {
   "cell_type": "code",
   "execution_count": 86,
   "id": "f76b1636",
   "metadata": {
    "hidden": true
   },
   "outputs": [
    {
     "data": {
      "text/plain": [
       "2.581988897471611"
      ]
     },
     "execution_count": 86,
     "metadata": {},
     "output_type": "execute_result"
    }
   ],
   "source": [
    "np.std(a)"
   ]
  },
  {
   "cell_type": "code",
   "execution_count": 87,
   "id": "0decf342",
   "metadata": {
    "hidden": true
   },
   "outputs": [
    {
     "data": {
      "text/plain": [
       "2.581988897471611"
      ]
     },
     "execution_count": 87,
     "metadata": {},
     "output_type": "execute_result"
    }
   ],
   "source": [
    "a.std()"
   ]
  },
  {
   "cell_type": "code",
   "execution_count": 88,
   "id": "1eb28f48",
   "metadata": {
    "hidden": true
   },
   "outputs": [
    {
     "data": {
      "text/plain": [
       "3.0"
      ]
     },
     "execution_count": 88,
     "metadata": {},
     "output_type": "execute_result"
    }
   ],
   "source": [
    "# only this way not by ---> np.quantile(a,q=0.1)\n",
    "np.quantile(a,q=0.25)"
   ]
  },
  {
   "cell_type": "code",
   "execution_count": 89,
   "id": "2936c61c",
   "metadata": {
    "hidden": true
   },
   "outputs": [
    {
     "data": {
      "text/plain": [
       "5.0"
      ]
     },
     "execution_count": 89,
     "metadata": {},
     "output_type": "execute_result"
    }
   ],
   "source": [
    "np.quantile(a,q=0.5)"
   ]
  },
  {
   "cell_type": "code",
   "execution_count": 90,
   "id": "2266e604",
   "metadata": {
    "hidden": true
   },
   "outputs": [
    {
     "data": {
      "text/plain": [
       "7.0"
      ]
     },
     "execution_count": 90,
     "metadata": {},
     "output_type": "execute_result"
    }
   ],
   "source": [
    "np.quantile(a,q=0.75)"
   ]
  },
  {
   "cell_type": "code",
   "execution_count": null,
   "id": "ca4b25d0",
   "metadata": {
    "hidden": true
   },
   "outputs": [],
   "source": []
  },
  {
   "cell_type": "code",
   "execution_count": 91,
   "id": "7d4a1c6e",
   "metadata": {
    "hidden": true
   },
   "outputs": [
    {
     "data": {
      "text/plain": [
       "array([[1, 2, 3],\n",
       "       [5, 6, 7],\n",
       "       [8, 9, 4]])"
      ]
     },
     "execution_count": 91,
     "metadata": {},
     "output_type": "execute_result"
    }
   ],
   "source": [
    "a"
   ]
  },
  {
   "cell_type": "code",
   "execution_count": 92,
   "id": "9fc7a6c8",
   "metadata": {
    "hidden": true
   },
   "outputs": [
    {
     "data": {
      "text/plain": [
       "array([8, 9, 7])"
      ]
     },
     "execution_count": 92,
     "metadata": {},
     "output_type": "execute_result"
    }
   ],
   "source": [
    "np.max(a,axis=0)   # checks column wise - axis =1"
   ]
  },
  {
   "cell_type": "code",
   "execution_count": 93,
   "id": "2d4857ce",
   "metadata": {
    "hidden": true,
    "scrolled": true
   },
   "outputs": [
    {
     "data": {
      "text/plain": [
       "array([3, 7, 9])"
      ]
     },
     "execution_count": 93,
     "metadata": {},
     "output_type": "execute_result"
    }
   ],
   "source": [
    "np.max(a,axis=1)   # checks row wise - axis =1"
   ]
  },
  {
   "cell_type": "code",
   "execution_count": null,
   "id": "fd461748",
   "metadata": {
    "hidden": true
   },
   "outputs": [],
   "source": [
    "### by giving axis we can cal for that axis - Min Max Mean Median Var Std Quantile\n",
    "###################   AXIS = 1  ---- ROW         In NP\n",
    "###################   AXIS = 0 ---- COLUMN       in np"
   ]
  },
  {
   "cell_type": "code",
   "execution_count": null,
   "id": "44654f24",
   "metadata": {
    "hidden": true
   },
   "outputs": [],
   "source": []
  },
  {
   "cell_type": "markdown",
   "id": "3df9b00f",
   "metadata": {
    "hidden": true
   },
   "source": [
    "####  Indexing / Slicing \n",
    "* [    row        ,    column    ]\n",
    "* [start:end:step, start:end:step]"
   ]
  },
  {
   "cell_type": "code",
   "execution_count": 94,
   "id": "353474e4",
   "metadata": {
    "hidden": true
   },
   "outputs": [
    {
     "data": {
      "text/plain": [
       "array([[1, 2, 3],\n",
       "       [5, 6, 7]])"
      ]
     },
     "execution_count": 94,
     "metadata": {},
     "output_type": "execute_result"
    }
   ],
   "source": [
    "a[0:2,0:3]"
   ]
  },
  {
   "cell_type": "code",
   "execution_count": 95,
   "id": "3c3de283",
   "metadata": {
    "hidden": true
   },
   "outputs": [
    {
     "data": {
      "text/plain": [
       "array([[1, 2],\n",
       "       [5, 6],\n",
       "       [8, 9]])"
      ]
     },
     "execution_count": 95,
     "metadata": {},
     "output_type": "execute_result"
    }
   ],
   "source": [
    "a[0:3,0:2]"
   ]
  },
  {
   "cell_type": "code",
   "execution_count": 96,
   "id": "c28dd8cc",
   "metadata": {
    "hidden": true
   },
   "outputs": [
    {
     "data": {
      "text/plain": [
       "array([[1, 3],\n",
       "       [8, 4]])"
      ]
     },
     "execution_count": 96,
     "metadata": {},
     "output_type": "execute_result"
    }
   ],
   "source": [
    "a[0:3:2,0:3:2]"
   ]
  },
  {
   "cell_type": "code",
   "execution_count": null,
   "id": "65f4f7dc",
   "metadata": {
    "hidden": true
   },
   "outputs": [],
   "source": []
  },
  {
   "cell_type": "markdown",
   "id": "f69c2f0e",
   "metadata": {
    "heading_collapsed": true
   },
   "source": [
    "###  Concatenation \n",
    "\n",
    "* np.concatenate([a,b],axis=0/1)\n",
    "* axis =1 ---- no of rows should be same    ---- side by side\n",
    "* axis =0 ---- no of columns should be same ----   BELOW"
   ]
  },
  {
   "cell_type": "code",
   "execution_count": 97,
   "id": "10ae9d47",
   "metadata": {
    "hidden": true
   },
   "outputs": [
    {
     "data": {
      "text/plain": [
       "array([[1, 2, 3],\n",
       "       [5, 6, 7],\n",
       "       [8, 9, 4]])"
      ]
     },
     "execution_count": 97,
     "metadata": {},
     "output_type": "execute_result"
    }
   ],
   "source": [
    "a"
   ]
  },
  {
   "cell_type": "code",
   "execution_count": 98,
   "id": "560d5940",
   "metadata": {
    "hidden": true
   },
   "outputs": [
    {
     "data": {
      "text/plain": [
       "array([[ 5,  9,  2],\n",
       "       [ 8,  4, 11],\n",
       "       [ 3,  7, 17]])"
      ]
     },
     "execution_count": 98,
     "metadata": {},
     "output_type": "execute_result"
    }
   ],
   "source": [
    "b=np.array([[5,9,2],[8,4,11],[3,7,17]])\n",
    "b"
   ]
  },
  {
   "cell_type": "code",
   "execution_count": 99,
   "id": "0d6e609d",
   "metadata": {
    "hidden": true
   },
   "outputs": [
    {
     "data": {
      "text/plain": [
       "array([[1., 2.],\n",
       "       [3., 4.]])"
      ]
     },
     "execution_count": 99,
     "metadata": {},
     "output_type": "execute_result"
    }
   ],
   "source": [
    "c"
   ]
  },
  {
   "cell_type": "code",
   "execution_count": 100,
   "id": "5e2f0e61",
   "metadata": {
    "hidden": true
   },
   "outputs": [
    {
     "data": {
      "text/plain": [
       "array([[5., 6.],\n",
       "       [7., 8.]])"
      ]
     },
     "execution_count": 100,
     "metadata": {},
     "output_type": "execute_result"
    }
   ],
   "source": [
    "d"
   ]
  },
  {
   "cell_type": "code",
   "execution_count": 101,
   "id": "00553d3a",
   "metadata": {
    "hidden": true
   },
   "outputs": [
    {
     "data": {
      "text/plain": [
       "array([[ 5,  9,  2],\n",
       "       [ 8,  4, 11]])"
      ]
     },
     "execution_count": 101,
     "metadata": {},
     "output_type": "execute_result"
    }
   ],
   "source": [
    "e=np.array([[5,9,2],[8,4,11]])\n",
    "e"
   ]
  },
  {
   "cell_type": "code",
   "execution_count": 102,
   "id": "048f62c7",
   "metadata": {
    "hidden": true
   },
   "outputs": [
    {
     "data": {
      "text/plain": [
       "array([[ 5,  9],\n",
       "       [ 8, 11],\n",
       "       [ 7, 17]])"
      ]
     },
     "execution_count": 102,
     "metadata": {},
     "output_type": "execute_result"
    }
   ],
   "source": [
    "f=np.array([[5,9],[8,11],[7,17]])\n",
    "f"
   ]
  },
  {
   "cell_type": "code",
   "execution_count": null,
   "id": "effdc2e6",
   "metadata": {
    "hidden": true
   },
   "outputs": [],
   "source": []
  },
  {
   "cell_type": "markdown",
   "id": "29f71f0d",
   "metadata": {
    "heading_collapsed": true,
    "hidden": true
   },
   "source": [
    "#### Contatanation operation on same shape matrix "
   ]
  },
  {
   "cell_type": "code",
   "execution_count": 103,
   "id": "a34383ac",
   "metadata": {
    "hidden": true
   },
   "outputs": [
    {
     "data": {
      "text/plain": [
       "array([[ 1,  2,  3],\n",
       "       [ 5,  6,  7],\n",
       "       [ 8,  9,  4],\n",
       "       [ 5,  9,  2],\n",
       "       [ 8,  4, 11],\n",
       "       [ 3,  7, 17]])"
      ]
     },
     "execution_count": 103,
     "metadata": {},
     "output_type": "execute_result"
    }
   ],
   "source": [
    "con1=np.concatenate([a,b])  # bydefault axis = 0\n",
    "con1  "
   ]
  },
  {
   "cell_type": "code",
   "execution_count": 104,
   "id": "ee067ce0",
   "metadata": {
    "hidden": true
   },
   "outputs": [
    {
     "data": {
      "text/plain": [
       "array([[ 1,  2,  3,  5,  9,  2],\n",
       "       [ 5,  6,  7,  8,  4, 11],\n",
       "       [ 8,  9,  4,  3,  7, 17]])"
      ]
     },
     "execution_count": 104,
     "metadata": {},
     "output_type": "execute_result"
    }
   ],
   "source": [
    "con2=np.concatenate([a,b],axis=1)       #### side by side\n",
    "con2"
   ]
  },
  {
   "cell_type": "code",
   "execution_count": 105,
   "id": "f289e321",
   "metadata": {
    "hidden": true
   },
   "outputs": [
    {
     "data": {
      "text/plain": [
       "array([[ 1,  2,  3],\n",
       "       [ 5,  6,  7],\n",
       "       [ 8,  9,  4],\n",
       "       [ 5,  9,  2],\n",
       "       [ 8,  4, 11],\n",
       "       [ 3,  7, 17]])"
      ]
     },
     "execution_count": 105,
     "metadata": {},
     "output_type": "execute_result"
    }
   ],
   "source": [
    "con3=np.concatenate([a,b],axis=0)       #### below\n",
    "con3"
   ]
  },
  {
   "cell_type": "code",
   "execution_count": null,
   "id": "7c5b7ed3",
   "metadata": {
    "hidden": true
   },
   "outputs": [],
   "source": []
  },
  {
   "cell_type": "markdown",
   "id": "821aa7d6",
   "metadata": {
    "heading_collapsed": true,
    "hidden": true
   },
   "source": [
    "#### Concatanation operation on diff shape matrix  -  both diffff"
   ]
  },
  {
   "cell_type": "code",
   "execution_count": 106,
   "id": "886e6c58",
   "metadata": {
    "hidden": true
   },
   "outputs": [
    {
     "ename": "ValueError",
     "evalue": "all the input array dimensions for the concatenation axis must match exactly, but along dimension 1, the array at index 0 has size 3 and the array at index 1 has size 2",
     "output_type": "error",
     "traceback": [
      "\u001b[1;31m---------------------------------------------------------------------------\u001b[0m",
      "\u001b[1;31mValueError\u001b[0m                                Traceback (most recent call last)",
      "\u001b[1;32m~\\AppData\\Local\\Temp/ipykernel_15336/1815599924.py\u001b[0m in \u001b[0;36m<module>\u001b[1;34m\u001b[0m\n\u001b[1;32m----> 1\u001b[1;33m \u001b[0mcon4\u001b[0m\u001b[1;33m=\u001b[0m\u001b[0mnp\u001b[0m\u001b[1;33m.\u001b[0m\u001b[0mconcatenate\u001b[0m\u001b[1;33m(\u001b[0m\u001b[1;33m[\u001b[0m\u001b[0ma\u001b[0m\u001b[1;33m,\u001b[0m\u001b[0mc\u001b[0m\u001b[1;33m]\u001b[0m\u001b[1;33m,\u001b[0m\u001b[0maxis\u001b[0m\u001b[1;33m=\u001b[0m\u001b[1;36m0\u001b[0m\u001b[1;33m)\u001b[0m       \u001b[1;31m#### a is 3x3 , b is 2x2 - no of colmns not same - not possible\u001b[0m\u001b[1;33m\u001b[0m\u001b[1;33m\u001b[0m\u001b[0m\n\u001b[0m\u001b[0;32m      2\u001b[0m \u001b[0mcon4\u001b[0m\u001b[1;33m\u001b[0m\u001b[1;33m\u001b[0m\u001b[0m\n",
      "\u001b[1;32m<__array_function__ internals>\u001b[0m in \u001b[0;36mconcatenate\u001b[1;34m(*args, **kwargs)\u001b[0m\n",
      "\u001b[1;31mValueError\u001b[0m: all the input array dimensions for the concatenation axis must match exactly, but along dimension 1, the array at index 0 has size 3 and the array at index 1 has size 2"
     ]
    }
   ],
   "source": [
    "con4=np.concatenate([a,c],axis=0)       #### a is 3x3 , b is 2x2 - no of colmns not same - not possible\n",
    "con4"
   ]
  },
  {
   "cell_type": "code",
   "execution_count": 107,
   "id": "4acf2842",
   "metadata": {
    "hidden": true
   },
   "outputs": [
    {
     "ename": "ValueError",
     "evalue": "all the input array dimensions for the concatenation axis must match exactly, but along dimension 0, the array at index 0 has size 3 and the array at index 1 has size 2",
     "output_type": "error",
     "traceback": [
      "\u001b[1;31m---------------------------------------------------------------------------\u001b[0m",
      "\u001b[1;31mValueError\u001b[0m                                Traceback (most recent call last)",
      "\u001b[1;32m~\\AppData\\Local\\Temp/ipykernel_15336/2721686680.py\u001b[0m in \u001b[0;36m<module>\u001b[1;34m\u001b[0m\n\u001b[1;32m----> 1\u001b[1;33m \u001b[0mcon5\u001b[0m\u001b[1;33m=\u001b[0m\u001b[0mnp\u001b[0m\u001b[1;33m.\u001b[0m\u001b[0mconcatenate\u001b[0m\u001b[1;33m(\u001b[0m\u001b[1;33m[\u001b[0m\u001b[0ma\u001b[0m\u001b[1;33m,\u001b[0m\u001b[0mc\u001b[0m\u001b[1;33m]\u001b[0m\u001b[1;33m,\u001b[0m\u001b[0maxis\u001b[0m\u001b[1;33m=\u001b[0m\u001b[1;36m1\u001b[0m\u001b[1;33m)\u001b[0m       \u001b[1;31m#### side by side of 3x3 - not possible\u001b[0m\u001b[1;33m\u001b[0m\u001b[1;33m\u001b[0m\u001b[0m\n\u001b[0m\u001b[0;32m      2\u001b[0m \u001b[0mcon5\u001b[0m\u001b[1;33m\u001b[0m\u001b[1;33m\u001b[0m\u001b[0m\n",
      "\u001b[1;32m<__array_function__ internals>\u001b[0m in \u001b[0;36mconcatenate\u001b[1;34m(*args, **kwargs)\u001b[0m\n",
      "\u001b[1;31mValueError\u001b[0m: all the input array dimensions for the concatenation axis must match exactly, but along dimension 0, the array at index 0 has size 3 and the array at index 1 has size 2"
     ]
    }
   ],
   "source": [
    "con5=np.concatenate([a,c],axis=1)       #### side by side of 3x3 - not possible\n",
    "con5"
   ]
  },
  {
   "cell_type": "code",
   "execution_count": null,
   "id": "0d2205cf",
   "metadata": {
    "hidden": true
   },
   "outputs": [],
   "source": []
  },
  {
   "cell_type": "markdown",
   "id": "483b6b40",
   "metadata": {
    "heading_collapsed": true,
    "hidden": true
   },
   "source": [
    "#### concatenation Operation when no of COLUMNS of both are same -------- axis =0 is possible"
   ]
  },
  {
   "cell_type": "code",
   "execution_count": 108,
   "id": "dcebad44",
   "metadata": {
    "hidden": true
   },
   "outputs": [
    {
     "name": "stdout",
     "output_type": "stream",
     "text": [
      "shape of a is - (3, 3)\n",
      "shape of e is - (2, 3)\n"
     ]
    }
   ],
   "source": [
    "print( 'shape of a is -', np.shape(a))\n",
    "print( 'shape of e is -', np.shape(e))"
   ]
  },
  {
   "cell_type": "code",
   "execution_count": 109,
   "id": "338c85cb",
   "metadata": {
    "hidden": true
   },
   "outputs": [
    {
     "data": {
      "text/plain": [
       "array([[ 1,  2,  3],\n",
       "       [ 5,  6,  7],\n",
       "       [ 8,  9,  4],\n",
       "       [ 5,  9,  2],\n",
       "       [ 8,  4, 11]])"
      ]
     },
     "execution_count": 109,
     "metadata": {},
     "output_type": "execute_result"
    }
   ],
   "source": [
    "con6=np.concatenate([a,e],axis=0)       #### below of 3x3 - only possible\n",
    "con6"
   ]
  },
  {
   "cell_type": "code",
   "execution_count": 110,
   "id": "4e20eebd",
   "metadata": {
    "hidden": true
   },
   "outputs": [
    {
     "ename": "ValueError",
     "evalue": "all the input array dimensions for the concatenation axis must match exactly, but along dimension 0, the array at index 0 has size 3 and the array at index 1 has size 2",
     "output_type": "error",
     "traceback": [
      "\u001b[1;31m---------------------------------------------------------------------------\u001b[0m",
      "\u001b[1;31mValueError\u001b[0m                                Traceback (most recent call last)",
      "\u001b[1;32m~\\AppData\\Local\\Temp/ipykernel_15336/2318125399.py\u001b[0m in \u001b[0;36m<module>\u001b[1;34m\u001b[0m\n\u001b[1;32m----> 1\u001b[1;33m \u001b[0mcon7\u001b[0m\u001b[1;33m=\u001b[0m\u001b[0mnp\u001b[0m\u001b[1;33m.\u001b[0m\u001b[0mconcatenate\u001b[0m\u001b[1;33m(\u001b[0m\u001b[1;33m[\u001b[0m\u001b[0ma\u001b[0m\u001b[1;33m,\u001b[0m\u001b[0me\u001b[0m\u001b[1;33m]\u001b[0m\u001b[1;33m,\u001b[0m\u001b[0maxis\u001b[0m\u001b[1;33m=\u001b[0m\u001b[1;36m1\u001b[0m\u001b[1;33m)\u001b[0m       \u001b[1;31m#### side by side of 3x3 - not possible\u001b[0m\u001b[1;33m\u001b[0m\u001b[1;33m\u001b[0m\u001b[0m\n\u001b[0m\u001b[0;32m      2\u001b[0m \u001b[0mcon7\u001b[0m\u001b[1;33m\u001b[0m\u001b[1;33m\u001b[0m\u001b[0m\n",
      "\u001b[1;32m<__array_function__ internals>\u001b[0m in \u001b[0;36mconcatenate\u001b[1;34m(*args, **kwargs)\u001b[0m\n",
      "\u001b[1;31mValueError\u001b[0m: all the input array dimensions for the concatenation axis must match exactly, but along dimension 0, the array at index 0 has size 3 and the array at index 1 has size 2"
     ]
    }
   ],
   "source": [
    "con7=np.concatenate([a,e],axis=1)       #### side by side of 3x3 - not possible\n",
    "con7"
   ]
  },
  {
   "cell_type": "code",
   "execution_count": null,
   "id": "38a1dded",
   "metadata": {
    "hidden": true
   },
   "outputs": [],
   "source": []
  },
  {
   "cell_type": "markdown",
   "id": "eddf448c",
   "metadata": {
    "heading_collapsed": true,
    "hidden": true
   },
   "source": [
    "#### concatenate Operation when no of ROWS of both are same -------- axis =1 is possible"
   ]
  },
  {
   "cell_type": "code",
   "execution_count": 111,
   "id": "8f7c33ee",
   "metadata": {
    "hidden": true
   },
   "outputs": [
    {
     "name": "stdout",
     "output_type": "stream",
     "text": [
      "shape of a is - (3, 3)\n",
      "shape of f is - (3, 2)\n"
     ]
    }
   ],
   "source": [
    "print( 'shape of a is -', np.shape(a))\n",
    "print( 'shape of f is -', np.shape(f))"
   ]
  },
  {
   "cell_type": "code",
   "execution_count": 112,
   "id": "7f08758c",
   "metadata": {
    "hidden": true
   },
   "outputs": [
    {
     "data": {
      "text/plain": [
       "array([[ 1,  2,  3,  5,  9],\n",
       "       [ 5,  6,  7,  8, 11],\n",
       "       [ 8,  9,  4,  7, 17]])"
      ]
     },
     "execution_count": 112,
     "metadata": {},
     "output_type": "execute_result"
    }
   ],
   "source": [
    "con7=np.concatenate([a,f],axis=1)       #### side by side of 3x3 - only possible\n",
    "con7"
   ]
  },
  {
   "cell_type": "code",
   "execution_count": 113,
   "id": "4bf28576",
   "metadata": {
    "hidden": true
   },
   "outputs": [
    {
     "ename": "ValueError",
     "evalue": "all the input array dimensions for the concatenation axis must match exactly, but along dimension 1, the array at index 0 has size 3 and the array at index 1 has size 2",
     "output_type": "error",
     "traceback": [
      "\u001b[1;31m---------------------------------------------------------------------------\u001b[0m",
      "\u001b[1;31mValueError\u001b[0m                                Traceback (most recent call last)",
      "\u001b[1;32m~\\AppData\\Local\\Temp/ipykernel_15336/3264105200.py\u001b[0m in \u001b[0;36m<module>\u001b[1;34m\u001b[0m\n\u001b[1;32m----> 1\u001b[1;33m \u001b[0mcon7\u001b[0m\u001b[1;33m=\u001b[0m\u001b[0mnp\u001b[0m\u001b[1;33m.\u001b[0m\u001b[0mconcatenate\u001b[0m\u001b[1;33m(\u001b[0m\u001b[1;33m[\u001b[0m\u001b[0ma\u001b[0m\u001b[1;33m,\u001b[0m\u001b[0mf\u001b[0m\u001b[1;33m]\u001b[0m\u001b[1;33m,\u001b[0m\u001b[0maxis\u001b[0m\u001b[1;33m=\u001b[0m\u001b[1;36m0\u001b[0m\u001b[1;33m)\u001b[0m       \u001b[1;31m#### below of 3x3 - not possible\u001b[0m\u001b[1;33m\u001b[0m\u001b[1;33m\u001b[0m\u001b[0m\n\u001b[0m\u001b[0;32m      2\u001b[0m \u001b[0mcon7\u001b[0m\u001b[1;33m\u001b[0m\u001b[1;33m\u001b[0m\u001b[0m\n",
      "\u001b[1;32m<__array_function__ internals>\u001b[0m in \u001b[0;36mconcatenate\u001b[1;34m(*args, **kwargs)\u001b[0m\n",
      "\u001b[1;31mValueError\u001b[0m: all the input array dimensions for the concatenation axis must match exactly, but along dimension 1, the array at index 0 has size 3 and the array at index 1 has size 2"
     ]
    }
   ],
   "source": [
    "con7=np.concatenate([a,f],axis=0)       #### below of 3x3 - not possible\n",
    "con7"
   ]
  },
  {
   "cell_type": "code",
   "execution_count": null,
   "id": "bbd5091a",
   "metadata": {
    "hidden": true
   },
   "outputs": [],
   "source": []
  },
  {
   "cell_type": "markdown",
   "id": "b5ed5018",
   "metadata": {
    "heading_collapsed": true
   },
   "source": [
    "### Methods on Array\n",
    "\n",
    "* Zeros - shape \n",
    "* zeros_like (ref matrix)\n",
    "* ones - shape\n",
    "* ones_like (ref matrix)"
   ]
  },
  {
   "cell_type": "code",
   "execution_count": 114,
   "id": "7933a0ee",
   "metadata": {
    "hidden": true
   },
   "outputs": [],
   "source": [
    "#zeros((shape))\n",
    "zero_a = np.zeros((3, 4))"
   ]
  },
  {
   "cell_type": "code",
   "execution_count": 115,
   "id": "0412fd11",
   "metadata": {
    "hidden": true
   },
   "outputs": [
    {
     "data": {
      "text/plain": [
       "array([[0., 0., 0., 0.],\n",
       "       [0., 0., 0., 0.],\n",
       "       [0., 0., 0., 0.]])"
      ]
     },
     "execution_count": 115,
     "metadata": {},
     "output_type": "execute_result"
    }
   ],
   "source": [
    "zero_a"
   ]
  },
  {
   "cell_type": "code",
   "execution_count": 116,
   "id": "cd19ebb4",
   "metadata": {
    "hidden": true
   },
   "outputs": [
    {
     "data": {
      "text/plain": [
       "array([[0, 0],\n",
       "       [0, 0],\n",
       "       [0, 0]])"
      ]
     },
     "execution_count": 116,
     "metadata": {},
     "output_type": "execute_result"
    }
   ],
   "source": [
    "## zeros_like((reference matrix for shape))\n",
    "zero_like = np.zeros_like(f)\n",
    "zero_like"
   ]
  },
  {
   "cell_type": "code",
   "execution_count": null,
   "id": "c56ce47e",
   "metadata": {
    "hidden": true
   },
   "outputs": [],
   "source": []
  },
  {
   "cell_type": "code",
   "execution_count": 117,
   "id": "2486ee09",
   "metadata": {
    "hidden": true
   },
   "outputs": [
    {
     "data": {
      "text/plain": [
       "array([[1., 1., 1.],\n",
       "       [1., 1., 1.]])"
      ]
     },
     "execution_count": 117,
     "metadata": {},
     "output_type": "execute_result"
    }
   ],
   "source": [
    "one=np.ones((2,3))\n",
    "one"
   ]
  },
  {
   "cell_type": "code",
   "execution_count": 118,
   "id": "0a2ade94",
   "metadata": {
    "hidden": true
   },
   "outputs": [
    {
     "data": {
      "text/plain": [
       "array([[1, 1],\n",
       "       [1, 1],\n",
       "       [1, 1]])"
      ]
     },
     "execution_count": 118,
     "metadata": {},
     "output_type": "execute_result"
    }
   ],
   "source": [
    "one_like=np.ones_like((f))\n",
    "one_like"
   ]
  },
  {
   "cell_type": "code",
   "execution_count": null,
   "id": "c46d44e0",
   "metadata": {
    "hidden": true
   },
   "outputs": [],
   "source": []
  },
  {
   "cell_type": "code",
   "execution_count": 119,
   "id": "59bb3110",
   "metadata": {
    "hidden": true
   },
   "outputs": [
    {
     "name": "stdout",
     "output_type": "stream",
     "text": [
      "max from each position \n",
      " [[2 2]\n",
      " [2 2]]\n",
      "min from each position \n",
      " [[1 1]\n",
      " [1 1]]\n"
     ]
    }
   ],
   "source": [
    "a = np.array([[1, 2], [2, 1]])\n",
    "b = np.array([[2, 1], [1, 2]])\n",
    "\n",
    "print(f'max from each position \\n {np.maximum(a,b)}')    # np.max(array) - whole single matrix\n",
    "print(f'min from each position \\n {np.minimum(a,b)}')\n"
   ]
  },
  {
   "cell_type": "code",
   "execution_count": null,
   "id": "dd3db6cb",
   "metadata": {
    "hidden": true
   },
   "outputs": [],
   "source": []
  },
  {
   "cell_type": "code",
   "execution_count": 120,
   "id": "edff5fc0",
   "metadata": {
    "hidden": true
   },
   "outputs": [
    {
     "data": {
      "text/plain": [
       "array([[17, 17, 17, 17],\n",
       "       [17, 17, 17, 17],\n",
       "       [17, 17, 17, 17]])"
      ]
     },
     "execution_count": 120,
     "metadata": {},
     "output_type": "execute_result"
    }
   ],
   "source": [
    "#np.full((shape),value)\n",
    "np.full((3,4),17)"
   ]
  },
  {
   "cell_type": "code",
   "execution_count": 121,
   "id": "18ef7aa4",
   "metadata": {
    "hidden": true
   },
   "outputs": [
    {
     "data": {
      "text/plain": [
       "array([[8, 8],\n",
       "       [8, 8]])"
      ]
     },
     "execution_count": 121,
     "metadata": {},
     "output_type": "execute_result"
    }
   ],
   "source": [
    "# np.full_like((shape of reference),value) \n",
    "np.full_like((a),8)"
   ]
  },
  {
   "cell_type": "code",
   "execution_count": null,
   "id": "c0c72bb8",
   "metadata": {
    "hidden": true
   },
   "outputs": [],
   "source": []
  },
  {
   "cell_type": "code",
   "execution_count": null,
   "id": "03518bcf",
   "metadata": {
    "hidden": true
   },
   "outputs": [],
   "source": []
  },
  {
   "cell_type": "code",
   "execution_count": 122,
   "id": "ff5032e3",
   "metadata": {
    "hidden": true
   },
   "outputs": [],
   "source": [
    "b = np.arange(24).reshape(3, 4, 2)"
   ]
  },
  {
   "cell_type": "code",
   "execution_count": 123,
   "id": "1b7ced66",
   "metadata": {
    "hidden": true
   },
   "outputs": [
    {
     "data": {
      "text/plain": [
       "array([[[ 0,  1],\n",
       "        [ 2,  3],\n",
       "        [ 4,  5],\n",
       "        [ 6,  7]],\n",
       "\n",
       "       [[ 8,  9],\n",
       "        [10, 11],\n",
       "        [12, 13],\n",
       "        [14, 15]],\n",
       "\n",
       "       [[16, 17],\n",
       "        [18, 19],\n",
       "        [20, 21],\n",
       "        [22, 23]]])"
      ]
     },
     "execution_count": 123,
     "metadata": {},
     "output_type": "execute_result"
    }
   ],
   "source": [
    "b"
   ]
  },
  {
   "cell_type": "code",
   "execution_count": 124,
   "id": "f1fb3cdf",
   "metadata": {
    "hidden": true
   },
   "outputs": [
    {
     "data": {
      "text/plain": [
       "16"
      ]
     },
     "execution_count": 124,
     "metadata": {},
     "output_type": "execute_result"
    }
   ],
   "source": [
    "# indexing - pair,rows,columns\n",
    "\n",
    "b[2][0][0]"
   ]
  },
  {
   "cell_type": "code",
   "execution_count": 125,
   "id": "16aad83e",
   "metadata": {
    "hidden": true
   },
   "outputs": [
    {
     "data": {
      "text/plain": [
       "13"
      ]
     },
     "execution_count": 125,
     "metadata": {},
     "output_type": "execute_result"
    }
   ],
   "source": [
    "b[1][2][1]"
   ]
  },
  {
   "cell_type": "code",
   "execution_count": 126,
   "id": "78e8908b",
   "metadata": {
    "hidden": true
   },
   "outputs": [],
   "source": [
    "c=np.arange(24).reshape(2,2,3,2)"
   ]
  },
  {
   "cell_type": "code",
   "execution_count": 127,
   "id": "0d150956",
   "metadata": {
    "hidden": true
   },
   "outputs": [
    {
     "data": {
      "text/plain": [
       "array([[[[ 0,  1],\n",
       "         [ 2,  3],\n",
       "         [ 4,  5]],\n",
       "\n",
       "        [[ 6,  7],\n",
       "         [ 8,  9],\n",
       "         [10, 11]]],\n",
       "\n",
       "\n",
       "       [[[12, 13],\n",
       "         [14, 15],\n",
       "         [16, 17]],\n",
       "\n",
       "        [[18, 19],\n",
       "         [20, 21],\n",
       "         [22, 23]]]])"
      ]
     },
     "execution_count": 127,
     "metadata": {},
     "output_type": "execute_result"
    }
   ],
   "source": [
    "c"
   ]
  },
  {
   "cell_type": "code",
   "execution_count": 128,
   "id": "71153ded",
   "metadata": {
    "hidden": true
   },
   "outputs": [
    {
     "data": {
      "text/plain": [
       "4"
      ]
     },
     "execution_count": 128,
     "metadata": {},
     "output_type": "execute_result"
    }
   ],
   "source": [
    "c.ndim"
   ]
  },
  {
   "cell_type": "code",
   "execution_count": 129,
   "id": "20b2fdba",
   "metadata": {
    "hidden": true
   },
   "outputs": [
    {
     "data": {
      "text/plain": [
       "9"
      ]
     },
     "execution_count": 129,
     "metadata": {},
     "output_type": "execute_result"
    }
   ],
   "source": [
    "#9  -- [ pair -- indexing , pair,row,clm ]\n",
    "c[0][1][1][1]"
   ]
  },
  {
   "cell_type": "code",
   "execution_count": 130,
   "id": "b482901d",
   "metadata": {
    "hidden": true
   },
   "outputs": [
    {
     "data": {
      "text/plain": [
       "23"
      ]
     },
     "execution_count": 130,
     "metadata": {},
     "output_type": "execute_result"
    }
   ],
   "source": [
    "#23\n",
    "c[1][1][2][1]"
   ]
  },
  {
   "cell_type": "code",
   "execution_count": null,
   "id": "f5a8732a",
   "metadata": {
    "hidden": true
   },
   "outputs": [],
   "source": []
  },
  {
   "cell_type": "markdown",
   "id": "0c60c068",
   "metadata": {},
   "source": [
    "### Stacking"
   ]
  },
  {
   "cell_type": "code",
   "execution_count": 131,
   "id": "9c2f5dc2",
   "metadata": {},
   "outputs": [
    {
     "data": {
      "text/plain": [
       "array([[1, 2, 3, 4],\n",
       "       [5, 6, 7, 8]])"
      ]
     },
     "execution_count": 131,
     "metadata": {},
     "output_type": "execute_result"
    }
   ],
   "source": [
    "a = np.array([[1, 2, 3, 4], [5, 6, 7, 8]])\n",
    "a"
   ]
  },
  {
   "cell_type": "code",
   "execution_count": 132,
   "id": "b10aa1f8",
   "metadata": {},
   "outputs": [
    {
     "data": {
      "text/plain": [
       "array([1, 2, 3, 4, 5, 6, 7, 8])"
      ]
     },
     "execution_count": 132,
     "metadata": {},
     "output_type": "execute_result"
    }
   ],
   "source": [
    "b = np.hstack(a)\n",
    "b"
   ]
  },
  {
   "cell_type": "code",
   "execution_count": 133,
   "id": "dd1ee625",
   "metadata": {},
   "outputs": [],
   "source": [
    "c = np.vstack(b)"
   ]
  },
  {
   "cell_type": "code",
   "execution_count": 134,
   "id": "7cd9794a",
   "metadata": {},
   "outputs": [
    {
     "data": {
      "text/plain": [
       "array([[1],\n",
       "       [2],\n",
       "       [3],\n",
       "       [4],\n",
       "       [5],\n",
       "       [6],\n",
       "       [7],\n",
       "       [8]])"
      ]
     },
     "execution_count": 134,
     "metadata": {},
     "output_type": "execute_result"
    }
   ],
   "source": [
    "c"
   ]
  },
  {
   "cell_type": "code",
   "execution_count": 135,
   "id": "c831400b",
   "metadata": {},
   "outputs": [
    {
     "data": {
      "text/plain": [
       "array([[1, 2, 3, 4],\n",
       "       [5, 6, 7, 8]])"
      ]
     },
     "execution_count": 135,
     "metadata": {},
     "output_type": "execute_result"
    }
   ],
   "source": [
    "d = np.vstack(a)\n",
    "d"
   ]
  },
  {
   "cell_type": "code",
   "execution_count": 136,
   "id": "38f9c2af",
   "metadata": {},
   "outputs": [
    {
     "data": {
      "text/plain": [
       "array([10, 11, 12, 20, 21, 22])"
      ]
     },
     "execution_count": 136,
     "metadata": {},
     "output_type": "execute_result"
    }
   ],
   "source": [
    "### Stack  - Horizontal  - multiple matrix\n",
    "d=np.array([10,11,12])\n",
    "e=np.array([20,21,22])\n",
    "\n",
    "f=np.hstack((d,e)) # sequence matters\n",
    "f"
   ]
  },
  {
   "cell_type": "code",
   "execution_count": 137,
   "id": "e8d01df6",
   "metadata": {},
   "outputs": [
    {
     "data": {
      "text/plain": [
       "array([20, 21, 22, 10, 11, 12])"
      ]
     },
     "execution_count": 137,
     "metadata": {},
     "output_type": "execute_result"
    }
   ],
   "source": [
    "f2=np.hstack((e,d)) # sequence matters\n",
    "f2"
   ]
  },
  {
   "cell_type": "code",
   "execution_count": 138,
   "id": "6f4d8424",
   "metadata": {},
   "outputs": [
    {
     "data": {
      "text/plain": [
       "array([[10, 11, 12],\n",
       "       [20, 21, 22]])"
      ]
     },
     "execution_count": 138,
     "metadata": {},
     "output_type": "execute_result"
    }
   ],
   "source": [
    "v=np.vstack((d,e)) # sequence matters\n",
    "v"
   ]
  },
  {
   "cell_type": "code",
   "execution_count": 139,
   "id": "2a3840cd",
   "metadata": {},
   "outputs": [
    {
     "data": {
      "text/plain": [
       "array([[10, 20],\n",
       "       [11, 21],\n",
       "       [12, 22]])"
      ]
     },
     "execution_count": 139,
     "metadata": {},
     "output_type": "execute_result"
    }
   ],
   "source": [
    "stk = np.column_stack((d,e))\n",
    "stk"
   ]
  },
  {
   "cell_type": "code",
   "execution_count": 140,
   "id": "65d616a6",
   "metadata": {},
   "outputs": [
    {
     "data": {
      "text/plain": [
       "array([30, 32, 34])"
      ]
     },
     "execution_count": 140,
     "metadata": {},
     "output_type": "execute_result"
    }
   ],
   "source": [
    "d+e"
   ]
  },
  {
   "cell_type": "code",
   "execution_count": 141,
   "id": "3a7c1d70",
   "metadata": {},
   "outputs": [
    {
     "data": {
      "text/plain": [
       "array([10, 11, 12, 20, 21, 22])"
      ]
     },
     "execution_count": 141,
     "metadata": {},
     "output_type": "execute_result"
    }
   ],
   "source": [
    "con=np.concatenate([d,e]) #hstack\n",
    "con"
   ]
  },
  {
   "cell_type": "markdown",
   "id": "54e297a4",
   "metadata": {},
   "source": [
    "#### Convert n-dim to 1d"
   ]
  },
  {
   "cell_type": "code",
   "execution_count": 2,
   "id": "9540ddb1",
   "metadata": {},
   "outputs": [
    {
     "data": {
      "text/plain": [
       "array([[1, 2, 3],\n",
       "       [4, 5, 6],\n",
       "       [7, 8, 9]])"
      ]
     },
     "execution_count": 2,
     "metadata": {},
     "output_type": "execute_result"
    }
   ],
   "source": [
    "arr = np.array([[1, 2, 3],[4, 5, 6],[7, 8, 9]])\n",
    "arr"
   ]
  },
  {
   "cell_type": "code",
   "execution_count": 3,
   "id": "24e1a131",
   "metadata": {},
   "outputs": [
    {
     "data": {
      "text/plain": [
       "array([1, 2, 3, 4, 5, 6, 7, 8, 9])"
      ]
     },
     "execution_count": 3,
     "metadata": {},
     "output_type": "execute_result"
    }
   ],
   "source": [
    "n_hstack = np.hstack(arr)\n",
    "n_hstack"
   ]
  },
  {
   "cell_type": "code",
   "execution_count": 4,
   "id": "68c64a00",
   "metadata": {},
   "outputs": [
    {
     "data": {
      "text/plain": [
       "array([1, 2, 3, 4, 5, 6, 7, 8, 9])"
      ]
     },
     "execution_count": 4,
     "metadata": {},
     "output_type": "execute_result"
    }
   ],
   "source": [
    "N_dim = arr.flatten()\n",
    "N_dim"
   ]
  },
  {
   "cell_type": "code",
   "execution_count": null,
   "id": "56dcd9e0",
   "metadata": {},
   "outputs": [],
   "source": []
  },
  {
   "cell_type": "markdown",
   "id": "ad5c0fcd",
   "metadata": {},
   "source": [
    "### intersection (intersect1d) & difference(setdiff1d)"
   ]
  },
  {
   "cell_type": "code",
   "execution_count": 142,
   "id": "c80b6edb",
   "metadata": {},
   "outputs": [
    {
     "data": {
      "text/plain": [
       "array([50, 60])"
      ]
     },
     "execution_count": 142,
     "metadata": {},
     "output_type": "execute_result"
    }
   ],
   "source": [
    "a = np.array([10, 20, 30, 40, 50, 60])\n",
    "b = np.array([50, 60, 70, 80, 90])\n",
    "\n",
    "np.intersect1d(a, b)"
   ]
  },
  {
   "cell_type": "code",
   "execution_count": 143,
   "id": "ae0c4c06",
   "metadata": {},
   "outputs": [
    {
     "data": {
      "text/plain": [
       "array([10, 20, 30, 40])"
      ]
     },
     "execution_count": 143,
     "metadata": {},
     "output_type": "execute_result"
    }
   ],
   "source": [
    "# a-b - unique in @a\n",
    "np.setdiff1d(a, b)"
   ]
  },
  {
   "cell_type": "code",
   "execution_count": null,
   "id": "de89fb50",
   "metadata": {},
   "outputs": [],
   "source": []
  },
  {
   "cell_type": "code",
   "execution_count": null,
   "id": "59e22a15",
   "metadata": {},
   "outputs": [],
   "source": []
  },
  {
   "cell_type": "code",
   "execution_count": 144,
   "id": "d94ea240",
   "metadata": {},
   "outputs": [
    {
     "data": {
      "text/plain": [
       "96"
      ]
     },
     "execution_count": 144,
     "metadata": {},
     "output_type": "execute_result"
    }
   ],
   "source": [
    "# Sum (passing as list)\n",
    "\n",
    "a = np.array([10, 11, 12])\n",
    "b = np.array([20, 21, 22])\n",
    "\n",
    "np.sum([a, b])"
   ]
  },
  {
   "cell_type": "code",
   "execution_count": 146,
   "id": "d1acb3dd",
   "metadata": {},
   "outputs": [
    {
     "data": {
      "text/plain": [
       "96"
      ]
     },
     "execution_count": 146,
     "metadata": {},
     "output_type": "execute_result"
    }
   ],
   "source": [
    "np.sum((a, b))"
   ]
  },
  {
   "cell_type": "code",
   "execution_count": 147,
   "id": "71b5452d",
   "metadata": {},
   "outputs": [
    {
     "data": {
      "text/plain": [
       "array([30, 32, 34])"
      ]
     },
     "execution_count": 147,
     "metadata": {},
     "output_type": "execute_result"
    }
   ],
   "source": [
    "# column\n",
    "np.sum([a, b], axis=0)"
   ]
  },
  {
   "cell_type": "code",
   "execution_count": 148,
   "id": "5c21482f",
   "metadata": {},
   "outputs": [
    {
     "data": {
      "text/plain": [
       "array([33, 63])"
      ]
     },
     "execution_count": 148,
     "metadata": {},
     "output_type": "execute_result"
    }
   ],
   "source": [
    "# Row\n",
    "np.sum([a, b], axis=1)"
   ]
  },
  {
   "cell_type": "code",
   "execution_count": null,
   "id": "d5bf182f",
   "metadata": {},
   "outputs": [],
   "source": []
  },
  {
   "cell_type": "code",
   "execution_count": 149,
   "id": "fa5a93ff",
   "metadata": {},
   "outputs": [
    {
     "data": {
      "text/plain": [
       "array([ 5, 15, 25])"
      ]
     },
     "execution_count": 149,
     "metadata": {},
     "output_type": "execute_result"
    }
   ],
   "source": [
    "# Basic Math  - subtract\n",
    "\n",
    "a=np.array([10,20,30])\n",
    "\n",
    "a=a-5\n",
    "a"
   ]
  },
  {
   "cell_type": "code",
   "execution_count": 150,
   "id": "5d062c2b",
   "metadata": {},
   "outputs": [
    {
     "data": {
      "text/plain": [
       "array([15, 25, 35])"
      ]
     },
     "execution_count": 150,
     "metadata": {},
     "output_type": "execute_result"
    }
   ],
   "source": [
    "# Basic Math  - addition\n",
    "\n",
    "a=np.array([10,20,30])\n",
    "\n",
    "a=a+5\n",
    "a"
   ]
  },
  {
   "cell_type": "code",
   "execution_count": 151,
   "id": "2c5ba802",
   "metadata": {},
   "outputs": [
    {
     "data": {
      "text/plain": [
       "array([ 40,  80, 120])"
      ]
     },
     "execution_count": 151,
     "metadata": {},
     "output_type": "execute_result"
    }
   ],
   "source": [
    "# Basic Math  - Multiplication\n",
    "\n",
    "a=np.array([10,20,30])\n",
    "\n",
    "a=a*4\n",
    "a"
   ]
  },
  {
   "cell_type": "code",
   "execution_count": 152,
   "id": "3a838ed6",
   "metadata": {},
   "outputs": [
    {
     "data": {
      "text/plain": [
       "array([ 5., 10., 15.])"
      ]
     },
     "execution_count": 152,
     "metadata": {},
     "output_type": "execute_result"
    }
   ],
   "source": [
    "# Basic Math  - Division\n",
    "\n",
    "a=np.array([10,20,30])\n",
    "\n",
    "a=a/2\n",
    "a"
   ]
  },
  {
   "cell_type": "code",
   "execution_count": 153,
   "id": "2dafaaa2",
   "metadata": {},
   "outputs": [],
   "source": [
    "# saving numpy\n",
    "np.save('panks',a) # file name, mention which matrix to save here (a)"
   ]
  },
  {
   "cell_type": "code",
   "execution_count": 154,
   "id": "de705b5b",
   "metadata": {},
   "outputs": [
    {
     "data": {
      "text/plain": [
       "array([ 5., 10., 15.])"
      ]
     },
     "execution_count": 154,
     "metadata": {},
     "output_type": "execute_result"
    }
   ],
   "source": [
    "# loading \n",
    "\n",
    "b=np.load('panks.npy')\n",
    "b"
   ]
  },
  {
   "cell_type": "code",
   "execution_count": null,
   "id": "5434aa0b",
   "metadata": {},
   "outputs": [],
   "source": []
  },
  {
   "cell_type": "markdown",
   "id": "78e2ef04",
   "metadata": {
    "heading_collapsed": true
   },
   "source": [
    "##  NUMPY TO PANDAS "
   ]
  },
  {
   "cell_type": "code",
   "execution_count": 155,
   "id": "bb310568",
   "metadata": {
    "hidden": true
   },
   "outputs": [
    {
     "data": {
      "text/html": [
       "<div>\n",
       "<style scoped>\n",
       "    .dataframe tbody tr th:only-of-type {\n",
       "        vertical-align: middle;\n",
       "    }\n",
       "\n",
       "    .dataframe tbody tr th {\n",
       "        vertical-align: top;\n",
       "    }\n",
       "\n",
       "    .dataframe thead th {\n",
       "        text-align: right;\n",
       "    }\n",
       "</style>\n",
       "<table border=\"1\" class=\"dataframe\">\n",
       "  <thead>\n",
       "    <tr style=\"text-align: right;\">\n",
       "      <th></th>\n",
       "      <th>0</th>\n",
       "    </tr>\n",
       "  </thead>\n",
       "  <tbody>\n",
       "    <tr>\n",
       "      <th>0</th>\n",
       "      <td>5.0</td>\n",
       "    </tr>\n",
       "    <tr>\n",
       "      <th>1</th>\n",
       "      <td>10.0</td>\n",
       "    </tr>\n",
       "    <tr>\n",
       "      <th>2</th>\n",
       "      <td>15.0</td>\n",
       "    </tr>\n",
       "  </tbody>\n",
       "</table>\n",
       "</div>"
      ],
      "text/plain": [
       "      0\n",
       "0   5.0\n",
       "1  10.0\n",
       "2  15.0"
      ]
     },
     "execution_count": 155,
     "metadata": {},
     "output_type": "execute_result"
    }
   ],
   "source": [
    "import pandas as pd \n",
    "\n",
    "pd.DataFrame(a)\n",
    "\n",
    "#D&F capital kawali"
   ]
  },
  {
   "cell_type": "code",
   "execution_count": 156,
   "id": "d8f37fe8",
   "metadata": {
    "hidden": true
   },
   "outputs": [
    {
     "data": {
      "text/html": [
       "<div>\n",
       "<style scoped>\n",
       "    .dataframe tbody tr th:only-of-type {\n",
       "        vertical-align: middle;\n",
       "    }\n",
       "\n",
       "    .dataframe tbody tr th {\n",
       "        vertical-align: top;\n",
       "    }\n",
       "\n",
       "    .dataframe thead th {\n",
       "        text-align: right;\n",
       "    }\n",
       "</style>\n",
       "<table border=\"1\" class=\"dataframe\">\n",
       "  <thead>\n",
       "    <tr style=\"text-align: right;\">\n",
       "      <th></th>\n",
       "      <th>0</th>\n",
       "    </tr>\n",
       "  </thead>\n",
       "  <tbody>\n",
       "    <tr>\n",
       "      <th>0</th>\n",
       "      <td>20</td>\n",
       "    </tr>\n",
       "    <tr>\n",
       "      <th>1</th>\n",
       "      <td>21</td>\n",
       "    </tr>\n",
       "    <tr>\n",
       "      <th>2</th>\n",
       "      <td>22</td>\n",
       "    </tr>\n",
       "  </tbody>\n",
       "</table>\n",
       "</div>"
      ],
      "text/plain": [
       "    0\n",
       "0  20\n",
       "1  21\n",
       "2  22"
      ]
     },
     "execution_count": 156,
     "metadata": {},
     "output_type": "execute_result"
    }
   ],
   "source": [
    "pd.DataFrame(e)"
   ]
  },
  {
   "cell_type": "code",
   "execution_count": null,
   "id": "72ea55da",
   "metadata": {
    "hidden": true
   },
   "outputs": [],
   "source": []
  },
  {
   "cell_type": "code",
   "execution_count": null,
   "id": "ab682e43",
   "metadata": {
    "hidden": true
   },
   "outputs": [],
   "source": []
  },
  {
   "cell_type": "code",
   "execution_count": null,
   "id": "3caf9ed9",
   "metadata": {
    "hidden": true
   },
   "outputs": [],
   "source": [
    "#numpy - matrix form\n",
    "#pandas - Table(row &column)"
   ]
  },
  {
   "cell_type": "code",
   "execution_count": null,
   "id": "16223299",
   "metadata": {
    "hidden": true
   },
   "outputs": [],
   "source": []
  },
  {
   "cell_type": "code",
   "execution_count": null,
   "id": "4615048e",
   "metadata": {
    "hidden": true
   },
   "outputs": [],
   "source": []
  }
 ],
 "metadata": {
  "kernelspec": {
   "display_name": "Python 3 (ipykernel)",
   "language": "python",
   "name": "python3"
  },
  "language_info": {
   "codemirror_mode": {
    "name": "ipython",
    "version": 3
   },
   "file_extension": ".py",
   "mimetype": "text/x-python",
   "name": "python",
   "nbconvert_exporter": "python",
   "pygments_lexer": "ipython3",
   "version": "3.9.7"
  },
  "varInspector": {
   "cols": {
    "lenName": 16,
    "lenType": 16,
    "lenVar": 40
   },
   "kernels_config": {
    "python": {
     "delete_cmd_postfix": "",
     "delete_cmd_prefix": "del ",
     "library": "var_list.py",
     "varRefreshCmd": "print(var_dic_list())"
    },
    "r": {
     "delete_cmd_postfix": ") ",
     "delete_cmd_prefix": "rm(",
     "library": "var_list.r",
     "varRefreshCmd": "cat(var_dic_list()) "
    }
   },
   "types_to_exclude": [
    "module",
    "function",
    "builtin_function_or_method",
    "instance",
    "_Feature"
   ],
   "window_display": false
  }
 },
 "nbformat": 4,
 "nbformat_minor": 5
}
